{
 "cells": [
  {
   "cell_type": "markdown",
   "metadata": {},
   "source": [
    "## Health Insurance Lead Prediction\n",
    "\n",
    "Problem Statement: Your Client FinMan is a financial services company that provides various financial services like loan, investment funds, insurance etc. to its customers. FinMan wishes to cross-sell health insurance to the existing customers who may or may not hold insurance policies with the company. The company recommend health insurance to it's customers based on their profile once these customers land on the website. Customers might browse the recommended health insurance policy and consequently fill up a form to apply. When these customers fill-up the form, their Response towards the policy is considered positive and they are classified as a lead.\n",
    "\n",
    "Once these leads are acquired, the sales advisors approach them to convert and thus the company can sell proposed health insurance to these leads in a more efficient manner.\n",
    "\n",
    "Now the company needs your help in building a model to predict whether the person will be interested in their proposed Health plan/policy."
   ]
  },
  {
   "cell_type": "code",
   "execution_count": 7,
   "metadata": {},
   "outputs": [
    {
     "data": {
      "text/html": [
       "<style type='text/css'>\n",
       ".datatable table.frame { margin-bottom: 0; }\n",
       ".datatable table.frame thead { border-bottom: none; }\n",
       ".datatable table.frame tr.coltypes td {  color: #FFFFFF;  line-height: 6px;  padding: 0 0.5em;}\n",
       ".datatable .bool    { background: #DDDD99; }\n",
       ".datatable .object  { background: #565656; }\n",
       ".datatable .int     { background: #5D9E5D; }\n",
       ".datatable .float   { background: #4040CC; }\n",
       ".datatable .str     { background: #CC4040; }\n",
       ".datatable .row_index {  background: var(--jp-border-color3);  border-right: 1px solid var(--jp-border-color0);  color: var(--jp-ui-font-color3);  font-size: 9px;}\n",
       ".datatable .frame tr.coltypes .row_index {  background: var(--jp-border-color0);}\n",
       ".datatable th:nth-child(2) { padding-left: 12px; }\n",
       ".datatable .hellipsis {  color: var(--jp-cell-editor-border-color);}\n",
       ".datatable .vellipsis {  background: var(--jp-layout-color0);  color: var(--jp-cell-editor-border-color);}\n",
       ".datatable .na {  color: var(--jp-cell-editor-border-color);  font-size: 80%;}\n",
       ".datatable .footer { font-size: 9px; }\n",
       ".datatable .frame_dimensions {  background: var(--jp-border-color3);  border-top: 1px solid var(--jp-border-color0);  color: var(--jp-ui-font-color3);  display: inline-block;  opacity: 0.6;  padding: 1px 10px 1px 5px;}\n",
       "</style>\n"
      ],
      "text/plain": [
       "<IPython.core.display.HTML object>"
      ]
     },
     "metadata": {},
     "output_type": "display_data"
    }
   ],
   "source": [
    "# Scientific and Data Manipulation Libraries :\n",
    "\n",
    "import numpy as np # linear algebra\n",
    "import pandas as pd # data processing, CSV file I/O (e.g. pd.read_csv)\n",
    "\n",
    "# Data Viz & Regular Expression Libraries :\n",
    "\n",
    "import matplotlib.pyplot as plt\n",
    "import seaborn as sns\n",
    "get_ipython().run_line_magic('matplotlib', 'inline')\n",
    "\n",
    "# Scikit-Learn Pre-Processing Libraries :\n",
    "\n",
    "from sklearn.preprocessing import *\n",
    "\n",
    "# Garbage Collection Libraries :\n",
    "\n",
    "import gc\n",
    "\n",
    "# Boosting Algorithm Libraries :\n",
    "\n",
    "from xgboost                          import XGBClassifier\n",
    "# from catboost                         import CatBoostClassifier, Pool\n",
    "# from lightgbm                         import LGBMClassifier\n",
    "# from sklearn.ensemble                 import RandomForestClassifier, VotingClassifier\n",
    "\n",
    "# Model Evaluation Metric & Cross Validation Libraries :\n",
    "from sklearn.metrics                  import roc_auc_score\n",
    "from sklearn.model_selection          import StratifiedKFold,KFold, RepeatedStratifiedKFold, train_test_split\n",
    "\n",
    "# Setting SEED to Reproduce Same Results even with \"GPU\" :\n",
    "seed_value = 1994\n",
    "\n",
    "import os\n",
    "os.environ['PYTHONHASHSEED'] = str(seed_value)\n",
    "import random\n",
    "random.seed(seed_value)\n",
    "import numpy as np\n",
    "np.random.seed(seed_value)\n",
    "SEED=seed_value"
   ]
  },
  {
   "cell_type": "code",
   "execution_count": 8,
   "metadata": {},
   "outputs": [],
   "source": [
    "# Reading files\n",
    "\n",
    "train = pd.read_csv('train_Df64byy.csv')\n",
    "test = pd.read_csv('test_YCcRUnU.csv')\n",
    "sub = pd.read_csv('sample_submission_QrCyCoT.csv')"
   ]
  },
  {
   "cell_type": "markdown",
   "metadata": {},
   "source": [
    "## EDA"
   ]
  },
  {
   "cell_type": "code",
   "execution_count": 8,
   "metadata": {},
   "outputs": [
    {
     "name": "stdout",
     "output_type": "stream",
     "text": [
      "Train set has 50882 rows and 14 columns.\n",
      "Test set has 21805 rows and 13 columns.\n"
     ]
    }
   ],
   "source": [
    "print(f'Train set has {train.shape[0]} rows and {train.shape[1]} columns.')\n",
    "print(f'Test set has {test.shape[0]} rows and {test.shape[1]} columns.')"
   ]
  },
  {
   "cell_type": "code",
   "execution_count": 3,
   "metadata": {
    "scrolled": true
   },
   "outputs": [
    {
     "data": {
      "text/html": [
       "<div>\n",
       "<style scoped>\n",
       "    .dataframe tbody tr th:only-of-type {\n",
       "        vertical-align: middle;\n",
       "    }\n",
       "\n",
       "    .dataframe tbody tr th {\n",
       "        vertical-align: top;\n",
       "    }\n",
       "\n",
       "    .dataframe thead th {\n",
       "        text-align: right;\n",
       "    }\n",
       "</style>\n",
       "<table border=\"1\" class=\"dataframe\">\n",
       "  <thead>\n",
       "    <tr style=\"text-align: right;\">\n",
       "      <th></th>\n",
       "      <th>ID</th>\n",
       "      <th>City_Code</th>\n",
       "      <th>Region_Code</th>\n",
       "      <th>Accomodation_Type</th>\n",
       "      <th>Reco_Insurance_Type</th>\n",
       "      <th>Upper_Age</th>\n",
       "      <th>Lower_Age</th>\n",
       "      <th>Is_Spouse</th>\n",
       "      <th>Health Indicator</th>\n",
       "      <th>Holding_Policy_Duration</th>\n",
       "      <th>Holding_Policy_Type</th>\n",
       "      <th>Reco_Policy_Cat</th>\n",
       "      <th>Reco_Policy_Premium</th>\n",
       "      <th>Response</th>\n",
       "    </tr>\n",
       "  </thead>\n",
       "  <tbody>\n",
       "    <tr>\n",
       "      <th>0</th>\n",
       "      <td>1</td>\n",
       "      <td>C3</td>\n",
       "      <td>3213</td>\n",
       "      <td>Rented</td>\n",
       "      <td>Individual</td>\n",
       "      <td>36</td>\n",
       "      <td>36</td>\n",
       "      <td>No</td>\n",
       "      <td>X1</td>\n",
       "      <td>14+</td>\n",
       "      <td>3.0</td>\n",
       "      <td>22</td>\n",
       "      <td>11628.0</td>\n",
       "      <td>0</td>\n",
       "    </tr>\n",
       "    <tr>\n",
       "      <th>1</th>\n",
       "      <td>2</td>\n",
       "      <td>C5</td>\n",
       "      <td>1117</td>\n",
       "      <td>Owned</td>\n",
       "      <td>Joint</td>\n",
       "      <td>75</td>\n",
       "      <td>22</td>\n",
       "      <td>No</td>\n",
       "      <td>X2</td>\n",
       "      <td>NaN</td>\n",
       "      <td>NaN</td>\n",
       "      <td>22</td>\n",
       "      <td>30510.0</td>\n",
       "      <td>0</td>\n",
       "    </tr>\n",
       "    <tr>\n",
       "      <th>2</th>\n",
       "      <td>3</td>\n",
       "      <td>C5</td>\n",
       "      <td>3732</td>\n",
       "      <td>Owned</td>\n",
       "      <td>Individual</td>\n",
       "      <td>32</td>\n",
       "      <td>32</td>\n",
       "      <td>No</td>\n",
       "      <td>NaN</td>\n",
       "      <td>1.0</td>\n",
       "      <td>1.0</td>\n",
       "      <td>19</td>\n",
       "      <td>7450.0</td>\n",
       "      <td>1</td>\n",
       "    </tr>\n",
       "    <tr>\n",
       "      <th>3</th>\n",
       "      <td>4</td>\n",
       "      <td>C24</td>\n",
       "      <td>4378</td>\n",
       "      <td>Owned</td>\n",
       "      <td>Joint</td>\n",
       "      <td>52</td>\n",
       "      <td>48</td>\n",
       "      <td>No</td>\n",
       "      <td>X1</td>\n",
       "      <td>14+</td>\n",
       "      <td>3.0</td>\n",
       "      <td>19</td>\n",
       "      <td>17780.0</td>\n",
       "      <td>0</td>\n",
       "    </tr>\n",
       "    <tr>\n",
       "      <th>4</th>\n",
       "      <td>5</td>\n",
       "      <td>C8</td>\n",
       "      <td>2190</td>\n",
       "      <td>Rented</td>\n",
       "      <td>Individual</td>\n",
       "      <td>44</td>\n",
       "      <td>44</td>\n",
       "      <td>No</td>\n",
       "      <td>X2</td>\n",
       "      <td>3.0</td>\n",
       "      <td>1.0</td>\n",
       "      <td>16</td>\n",
       "      <td>10404.0</td>\n",
       "      <td>0</td>\n",
       "    </tr>\n",
       "  </tbody>\n",
       "</table>\n",
       "</div>"
      ],
      "text/plain": [
       "   ID City_Code  Region_Code Accomodation_Type Reco_Insurance_Type  Upper_Age  \\\n",
       "0   1        C3         3213            Rented          Individual         36   \n",
       "1   2        C5         1117             Owned               Joint         75   \n",
       "2   3        C5         3732             Owned          Individual         32   \n",
       "3   4       C24         4378             Owned               Joint         52   \n",
       "4   5        C8         2190            Rented          Individual         44   \n",
       "\n",
       "   Lower_Age Is_Spouse Health Indicator Holding_Policy_Duration  \\\n",
       "0         36        No               X1                     14+   \n",
       "1         22        No               X2                     NaN   \n",
       "2         32        No              NaN                     1.0   \n",
       "3         48        No               X1                     14+   \n",
       "4         44        No               X2                     3.0   \n",
       "\n",
       "   Holding_Policy_Type  Reco_Policy_Cat  Reco_Policy_Premium  Response  \n",
       "0                  3.0               22              11628.0         0  \n",
       "1                  NaN               22              30510.0         0  \n",
       "2                  1.0               19               7450.0         1  \n",
       "3                  3.0               19              17780.0         0  \n",
       "4                  1.0               16              10404.0         0  "
      ]
     },
     "execution_count": 3,
     "metadata": {},
     "output_type": "execute_result"
    }
   ],
   "source": [
    "train.head()"
   ]
  },
  {
   "cell_type": "code",
   "execution_count": 11,
   "metadata": {},
   "outputs": [
    {
     "name": "stdout",
     "output_type": "stream",
     "text": [
      "Percentage of missing values in each column\n"
     ]
    },
    {
     "data": {
      "text/plain": [
       "ID                          0.000000\n",
       "City_Code                   0.000000\n",
       "Region_Code                 0.000000\n",
       "Accomodation_Type           0.000000\n",
       "Reco_Insurance_Type         0.000000\n",
       "Upper_Age                   0.000000\n",
       "Lower_Age                   0.000000\n",
       "Is_Spouse                   0.000000\n",
       "Health Indicator           22.976691\n",
       "Holding_Policy_Duration    39.799929\n",
       "Holding_Policy_Type        39.799929\n",
       "Reco_Policy_Cat             0.000000\n",
       "Reco_Policy_Premium         0.000000\n",
       "Response                    0.000000\n",
       "dtype: float64"
      ]
     },
     "execution_count": 11,
     "metadata": {},
     "output_type": "execute_result"
    }
   ],
   "source": [
    "print('Percentage of missing values in each column')\n",
    "train.isnull().sum()/train.shape[0]*100"
   ]
  },
  {
   "cell_type": "code",
   "execution_count": 9,
   "metadata": {},
   "outputs": [
    {
     "name": "stdout",
     "output_type": "stream",
     "text": [
      "There are no duplicate values.\n"
     ]
    }
   ],
   "source": [
    "print('There are no duplicate values.') if raw_data_train.duplicated().sum()==0 else print('Duplicates found!!')"
   ]
  },
  {
   "cell_type": "code",
   "execution_count": 16,
   "metadata": {
    "scrolled": true
   },
   "outputs": [
    {
     "name": "stdout",
     "output_type": "stream",
     "text": [
      "Number of unique values in categorical column.\n"
     ]
    },
    {
     "data": {
      "text/plain": [
       "City_Code                    36\n",
       "Region_Code                5316\n",
       "Accomodation_Type             2\n",
       "Reco_Insurance_Type           2\n",
       "Is_Spouse                     2\n",
       "Health Indicator              9\n",
       "Holding_Policy_Duration      15\n",
       "Holding_Policy_Type           4\n",
       "Reco_Policy_Cat              22\n",
       "dtype: int64"
      ]
     },
     "execution_count": 16,
     "metadata": {},
     "output_type": "execute_result"
    }
   ],
   "source": [
    "print('Number of unique values in categorical column.')\n",
    "cat_col = ['City_Code', 'Region_Code', 'Accomodation_Type',\n",
    "       'Reco_Insurance_Type', 'Is_Spouse','Health Indicator',\n",
    "        'Holding_Policy_Duration', 'Holding_Policy_Type',\n",
    "       'Reco_Policy_Cat']\n",
    "train[cat_col].nunique()"
   ]
  },
  {
   "cell_type": "markdown",
   "metadata": {},
   "source": [
    "* There are missing values in only 3 columns namely Health Indicator, Holding_Policy_Duration and Holding_Policy_Type. Since these are categorical columns and no domain knowledge can be gathered about their classes, I will impute missing values using mode. Alternatively, filling them with some constant say 0 also gives same result.\n",
    "* There are no duplicate values in train data.\n",
    "* Region_Code feature has very large number of distinct classes. I tried frequency encoding for it but no major improvement was achieved in score.\n",
    "* Features Accomodation_Type, Reco_Insurance_Type and Is_Spouse have only two distinct classes so I will do binary encoding for them.\n",
    "* For other features I tried to reduce number of distinct classes using their frequency and response rate but score reached only 0.62. I also tried using FeatureHasher function from sklearn.feature_extraction but score reached only 0.59.\n",
    "* So,finally I simply one hot encoded these features using get_dummies function from pandas."
   ]
  },
  {
   "cell_type": "code",
   "execution_count": 61,
   "metadata": {},
   "outputs": [
    {
     "data": {
      "image/png": "[encoded data removed]",
      "text/plain": [
       "<Figure size 1152x360 with 1 Axes>"
      ]
     },
     "metadata": {},
     "output_type": "display_data"
    }
   ],
   "source": [
    "plt.figure(figsize=(16,5))\n",
    "sns.barplot(data=train,x='City_Code',y='Region_Code');"
   ]
  },
  {
   "cell_type": "code",
   "execution_count": 58,
   "metadata": {},
   "outputs": [
    {
     "data": {
      "image/png": "[encoded data removed]",
      "text/plain": [
       "<Figure size 432x288 with 1 Axes>"
      ]
     },
     "metadata": {},
     "output_type": "display_data"
    }
   ],
   "source": [
    "sns.violinplot(data=train,x='Response',y='Region_Code',palette='summer');"
   ]
  },
  {
   "cell_type": "markdown",
   "metadata": {},
   "source": [
    "There is no information about Region_Code and no pattern with respect to the target variable. So I cannot transform it much."
   ]
  },
  {
   "cell_type": "code",
   "execution_count": 62,
   "metadata": {
    "scrolled": true
   },
   "outputs": [
    {
     "data": {
      "image/png": "[encoded data removed]",
      "text/plain": [
       "<Figure size 432x288 with 1 Axes>"
      ]
     },
     "metadata": {},
     "output_type": "display_data"
    }
   ],
   "source": [
    "sns.set_style('darkgrid')\n",
    "sns.countplot(data=train,x='Accomodation_Type',hue='Response',palette='summer')\n",
    "plt.xlabel('Customer Owns or Rents the house',fontdict={'fontsize': 15,'color':'Brown'},labelpad=3);"
   ]
  },
  {
   "cell_type": "markdown",
   "metadata": {},
   "source": [
    "Customers wh own a house are more likely to give positive response."
   ]
  },
  {
   "cell_type": "code",
   "execution_count": 63,
   "metadata": {
    "scrolled": true
   },
   "outputs": [
    {
     "data": {
      "image/png": "[encoded data removed]",
      "text/plain": [
       "<Figure size 432x288 with 1 Axes>"
      ]
     },
     "metadata": {},
     "output_type": "display_data"
    }
   ],
   "source": [
    "sns.set_style('darkgrid')\n",
    "sns.countplot(data=train,x='Reco_Insurance_Type',hue='Response',palette='summer')\n",
    "plt.xlabel('Type for the recommended insurance',fontdict={'fontsize': 15,'color':'Green'},labelpad=3);"
   ]
  },
  {
   "cell_type": "markdown",
   "metadata": {},
   "source": [
    "Customers have mostly showed interest in Individual insurance. Though response rate seems similar for both."
   ]
  },
  {
   "cell_type": "code",
   "execution_count": 67,
   "metadata": {
    "scrolled": false
   },
   "outputs": [
    {
     "data": {
      "image/png": "[encoded data removed]",
      "text/plain": [
       "<Figure size 432x288 with 1 Axes>"
      ]
     },
     "metadata": {},
     "output_type": "display_data"
    }
   ],
   "source": [
    "sns.countplot(data=train[train['Reco_Insurance_Type']=='Joint'],x='Is_Spouse',hue='Response',palette='summer')\n",
    "plt.xlabel('If the customers are married to each other')\n",
    "plt.title('Distribution of those who were Recommended Joint type of Insurance',fontsize=15);"
   ]
  },
  {
   "cell_type": "markdown",
   "metadata": {},
   "source": [
    "Customers showing interest in joint insurance are mostly couples."
   ]
  },
  {
   "cell_type": "code",
   "execution_count": 54,
   "metadata": {},
   "outputs": [
    {
     "name": "stdout",
     "output_type": "stream",
     "text": [
      "Distribution of Age of primary customer.\n"
     ]
    },
    {
     "data": {
      "image/png": "[encoded data removed]",
      "text/plain": [
       "<Figure size 576x288 with 2 Axes>"
      ]
     },
     "metadata": {},
     "output_type": "display_data"
    }
   ],
   "source": [
    "print('Distribution of Age of primary customer.')\n",
    "fig,axes=plt.subplots(2,1,figsize=(8,4))\n",
    "sns.distplot(train[train['Response']==0]['Upper_Age'],bins=30,color='red',ax=axes[0])\n",
    "axes[0].set_title('Response=0',fontsize=18)\n",
    "sns.distplot(train[train['Response']==1]['Upper_Age'],bins=30,color='blue',ax=axes[1])\n",
    "axes[1].set_title('Response=1',fontsize=18)\n",
    "plt.tight_layout();"
   ]
  },
  {
   "cell_type": "markdown",
   "metadata": {},
   "source": [
    "Age does not seem to affect target variable."
   ]
  },
  {
   "cell_type": "code",
   "execution_count": 49,
   "metadata": {
    "scrolled": true
   },
   "outputs": [
    {
     "data": {
      "image/png": "[encoded data removed]",
      "text/plain": [
       "<Figure size 576x288 with 1 Axes>"
      ]
     },
     "metadata": {},
     "output_type": "display_data"
    }
   ],
   "source": [
    "plt.figure(figsize=(8,4))\n",
    "sns.countplot(data=train,x='Health Indicator',hue='Response',palette='summer')\n",
    "plt.xlabel('Encoded values for health of the customer',fontdict={'fontsize': 15,'color':'Green'},labelpad=3);"
   ]
  },
  {
   "cell_type": "markdown",
   "metadata": {},
   "source": [
    "As Health Indicator goes from X1 to X9 customer is less likely to be a lead."
   ]
  },
  {
   "cell_type": "code",
   "execution_count": 41,
   "metadata": {
    "scrolled": true
   },
   "outputs": [
    {
     "data": {
      "image/png": "[encoded data removed]",
      "text/plain": [
       "<Figure size 576x288 with 1 Axes>"
      ]
     },
     "metadata": {},
     "output_type": "display_data"
    }
   ],
   "source": [
    "plt.figure(figsize=(8,4))\n",
    "sns.countplot(data=train,x='Holding_Policy_Duration',hue='Response',palette='summer',\n",
    "              order=['1.0', '2.0', '3.0', '4.0', '5.0', '6.0', '7.0',\n",
    "       '8.0', '9.0', '10.0', '11.0', '12.0', '13.0', '14.0','14+'])\n",
    "plt.xlabel('Duration (in years) of holding policy',fontdict={'fontsize': 15,'color':'Green'},labelpad=3);"
   ]
  },
  {
   "cell_type": "markdown",
   "metadata": {},
   "source": [
    "Majority of customers hold policies of less than 5 years. As number of years increases, probability of response 1 decreases. Possible reason can be people don't take multiple policies. Class 14+ seems heavier may be because it include many classes."
   ]
  },
  {
   "cell_type": "code",
   "execution_count": 36,
   "metadata": {
    "scrolled": false
   },
   "outputs": [
    {
     "data": {
      "image/png": "[encoded data removed]",
      "text/plain": [
       "<Figure size 576x288 with 1 Axes>"
      ]
     },
     "metadata": {},
     "output_type": "display_data"
    }
   ],
   "source": [
    "plt.figure(figsize=(8,4))\n",
    "sns.countplot(data=train,x='Holding_Policy_Type',hue='Response',palette='summer')\n",
    "plt.xlabel('Type of holding policy',fontdict={'fontsize': 15,'color':'Green'},labelpad=3);"
   ]
  },
  {
   "cell_type": "markdown",
   "metadata": {},
   "source": [
    "Policy corresponding to 3.0 seems most popular."
   ]
  },
  {
   "cell_type": "code",
   "execution_count": 21,
   "metadata": {
    "scrolled": true
   },
   "outputs": [
    {
     "data": {
      "image/png": "[encoded data removed]",
      "text/plain": [
       "<Figure size 576x288 with 1 Axes>"
      ]
     },
     "metadata": {},
     "output_type": "display_data"
    }
   ],
   "source": [
    "plt.figure(figsize=(8,4))\n",
    "sns.countplot(data=train,x='Reco_Policy_Cat',hue='Response',palette='summer')\n",
    "plt.xlabel('Encoded value for recommended health insurance',fontdict={'fontsize': 15,'color':'Green'},labelpad=3);"
   ]
  },
  {
   "cell_type": "markdown",
   "metadata": {},
   "source": [
    "Insurance policies corresponding to 16-22 are most likely."
   ]
  },
  {
   "cell_type": "code",
   "execution_count": 47,
   "metadata": {},
   "outputs": [
    {
     "name": "stdout",
     "output_type": "stream",
     "text": [
      "Annual Premium (INR) for the recommended health insurance\n"
     ]
    },
    {
     "data": {
      "image/png": "[encoded data removed]",
      "text/plain": [
       "<Figure size 720x360 with 2 Axes>"
      ]
     },
     "metadata": {},
     "output_type": "display_data"
    }
   ],
   "source": [
    "print('Annual Premium (INR) for the recommended health insurance')\n",
    "fig,axes=plt.subplots(2,1,figsize=(10,5))\n",
    "sns.distplot(train[train['Response']==0]['Reco_Policy_Premium'],color='red',ax=axes[0])\n",
    "axes[0].set_title('Response=0',fontsize=18)\n",
    "sns.distplot(train[train['Response']==1]['Reco_Policy_Premium'],color='blue',ax=axes[1])\n",
    "axes[1].set_title('Response=1',fontsize=18)\n",
    "plt.tight_layout();"
   ]
  },
  {
   "cell_type": "markdown",
   "metadata": {},
   "source": [
    "Annual Premium distribution is similar fot both the classes."
   ]
  },
  {
   "cell_type": "markdown",
   "metadata": {},
   "source": [
    "## Preprocessing"
   ]
  },
  {
   "cell_type": "code",
   "execution_count": 9,
   "metadata": {},
   "outputs": [
    {
     "data": {
      "text/html": [
       "<div>\n",
       "<style scoped>\n",
       "    .dataframe tbody tr th:only-of-type {\n",
       "        vertical-align: middle;\n",
       "    }\n",
       "\n",
       "    .dataframe tbody tr th {\n",
       "        vertical-align: top;\n",
       "    }\n",
       "\n",
       "    .dataframe thead th {\n",
       "        text-align: right;\n",
       "    }\n",
       "</style>\n",
       "<table border=\"1\" class=\"dataframe\">\n",
       "  <thead>\n",
       "    <tr style=\"text-align: right;\">\n",
       "      <th></th>\n",
       "      <th>Region_Code</th>\n",
       "      <th>Accomodation_Type</th>\n",
       "      <th>Reco_Insurance_Type</th>\n",
       "      <th>Upper_Age</th>\n",
       "      <th>Is_Spouse</th>\n",
       "      <th>Reco_Policy_Premium</th>\n",
       "      <th>Response</th>\n",
       "      <th>Age</th>\n",
       "      <th>City_Code_C10</th>\n",
       "      <th>City_Code_C11</th>\n",
       "      <th>...</th>\n",
       "      <th>Reco_Policy_Cat_13</th>\n",
       "      <th>Reco_Policy_Cat_14</th>\n",
       "      <th>Reco_Policy_Cat_15</th>\n",
       "      <th>Reco_Policy_Cat_16</th>\n",
       "      <th>Reco_Policy_Cat_17</th>\n",
       "      <th>Reco_Policy_Cat_18</th>\n",
       "      <th>Reco_Policy_Cat_19</th>\n",
       "      <th>Reco_Policy_Cat_20</th>\n",
       "      <th>Reco_Policy_Cat_21</th>\n",
       "      <th>Reco_Policy_Cat_22</th>\n",
       "    </tr>\n",
       "  </thead>\n",
       "  <tbody>\n",
       "    <tr>\n",
       "      <th>0</th>\n",
       "      <td>3213</td>\n",
       "      <td>1</td>\n",
       "      <td>0</td>\n",
       "      <td>36</td>\n",
       "      <td>0</td>\n",
       "      <td>11628.0</td>\n",
       "      <td>0.0</td>\n",
       "      <td>0</td>\n",
       "      <td>0</td>\n",
       "      <td>0</td>\n",
       "      <td>...</td>\n",
       "      <td>0</td>\n",
       "      <td>0</td>\n",
       "      <td>0</td>\n",
       "      <td>0</td>\n",
       "      <td>0</td>\n",
       "      <td>0</td>\n",
       "      <td>0</td>\n",
       "      <td>0</td>\n",
       "      <td>0</td>\n",
       "      <td>1</td>\n",
       "    </tr>\n",
       "    <tr>\n",
       "      <th>1</th>\n",
       "      <td>1117</td>\n",
       "      <td>0</td>\n",
       "      <td>1</td>\n",
       "      <td>75</td>\n",
       "      <td>0</td>\n",
       "      <td>30510.0</td>\n",
       "      <td>0.0</td>\n",
       "      <td>53</td>\n",
       "      <td>0</td>\n",
       "      <td>0</td>\n",
       "      <td>...</td>\n",
       "      <td>0</td>\n",
       "      <td>0</td>\n",
       "      <td>0</td>\n",
       "      <td>0</td>\n",
       "      <td>0</td>\n",
       "      <td>0</td>\n",
       "      <td>0</td>\n",
       "      <td>0</td>\n",
       "      <td>0</td>\n",
       "      <td>1</td>\n",
       "    </tr>\n",
       "    <tr>\n",
       "      <th>2</th>\n",
       "      <td>3732</td>\n",
       "      <td>0</td>\n",
       "      <td>0</td>\n",
       "      <td>32</td>\n",
       "      <td>0</td>\n",
       "      <td>7450.0</td>\n",
       "      <td>1.0</td>\n",
       "      <td>0</td>\n",
       "      <td>0</td>\n",
       "      <td>0</td>\n",
       "      <td>...</td>\n",
       "      <td>0</td>\n",
       "      <td>0</td>\n",
       "      <td>0</td>\n",
       "      <td>0</td>\n",
       "      <td>0</td>\n",
       "      <td>0</td>\n",
       "      <td>1</td>\n",
       "      <td>0</td>\n",
       "      <td>0</td>\n",
       "      <td>0</td>\n",
       "    </tr>\n",
       "    <tr>\n",
       "      <th>3</th>\n",
       "      <td>4378</td>\n",
       "      <td>0</td>\n",
       "      <td>1</td>\n",
       "      <td>52</td>\n",
       "      <td>0</td>\n",
       "      <td>17780.0</td>\n",
       "      <td>0.0</td>\n",
       "      <td>4</td>\n",
       "      <td>0</td>\n",
       "      <td>0</td>\n",
       "      <td>...</td>\n",
       "      <td>0</td>\n",
       "      <td>0</td>\n",
       "      <td>0</td>\n",
       "      <td>0</td>\n",
       "      <td>0</td>\n",
       "      <td>0</td>\n",
       "      <td>1</td>\n",
       "      <td>0</td>\n",
       "      <td>0</td>\n",
       "      <td>0</td>\n",
       "    </tr>\n",
       "    <tr>\n",
       "      <th>4</th>\n",
       "      <td>2190</td>\n",
       "      <td>1</td>\n",
       "      <td>0</td>\n",
       "      <td>44</td>\n",
       "      <td>0</td>\n",
       "      <td>10404.0</td>\n",
       "      <td>0.0</td>\n",
       "      <td>0</td>\n",
       "      <td>0</td>\n",
       "      <td>0</td>\n",
       "      <td>...</td>\n",
       "      <td>0</td>\n",
       "      <td>0</td>\n",
       "      <td>0</td>\n",
       "      <td>1</td>\n",
       "      <td>0</td>\n",
       "      <td>0</td>\n",
       "      <td>0</td>\n",
       "      <td>0</td>\n",
       "      <td>0</td>\n",
       "      <td>0</td>\n",
       "    </tr>\n",
       "  </tbody>\n",
       "</table>\n",
       "<p>5 rows × 92 columns</p>\n",
       "</div>"
      ],
      "text/plain": [
       "   Region_Code  Accomodation_Type  Reco_Insurance_Type  Upper_Age  Is_Spouse  \\\n",
       "0         3213                  1                    0         36          0   \n",
       "1         1117                  0                    1         75          0   \n",
       "2         3732                  0                    0         32          0   \n",
       "3         4378                  0                    1         52          0   \n",
       "4         2190                  1                    0         44          0   \n",
       "\n",
       "   Reco_Policy_Premium  Response  Age  City_Code_C10  City_Code_C11  ...  \\\n",
       "0              11628.0       0.0    0              0              0  ...   \n",
       "1              30510.0       0.0   53              0              0  ...   \n",
       "2               7450.0       1.0    0              0              0  ...   \n",
       "3              17780.0       0.0    4              0              0  ...   \n",
       "4              10404.0       0.0    0              0              0  ...   \n",
       "\n",
       "   Reco_Policy_Cat_13  Reco_Policy_Cat_14  Reco_Policy_Cat_15  \\\n",
       "0                   0                   0                   0   \n",
       "1                   0                   0                   0   \n",
       "2                   0                   0                   0   \n",
       "3                   0                   0                   0   \n",
       "4                   0                   0                   0   \n",
       "\n",
       "   Reco_Policy_Cat_16  Reco_Policy_Cat_17  Reco_Policy_Cat_18  \\\n",
       "0                   0                   0                   0   \n",
       "1                   0                   0                   0   \n",
       "2                   0                   0                   0   \n",
       "3                   0                   0                   0   \n",
       "4                   1                   0                   0   \n",
       "\n",
       "   Reco_Policy_Cat_19  Reco_Policy_Cat_20  Reco_Policy_Cat_21  \\\n",
       "0                   0                   0                   0   \n",
       "1                   0                   0                   0   \n",
       "2                   1                   0                   0   \n",
       "3                   1                   0                   0   \n",
       "4                   0                   0                   0   \n",
       "\n",
       "   Reco_Policy_Cat_22  \n",
       "0                   1  \n",
       "1                   1  \n",
       "2                   0  \n",
       "3                   0  \n",
       "4                   0  \n",
       "\n",
       "[5 rows x 92 columns]"
      ]
     },
     "execution_count": 9,
     "metadata": {},
     "output_type": "execute_result"
    }
   ],
   "source": [
    "# Joining training and test data for preprocessing\n",
    "full_df=pd.concat([train,test])\n",
    "\n",
    "# Creating a new feature by combining 'Upper_Age' and 'Lower_Age'\n",
    "full_df['Age']=full_df.Upper_Age-full_df.Lower_Age\n",
    "\n",
    "# Label encoding categorical features with two classes\n",
    "full_df.Is_Spouse = full_df.Is_Spouse.map({'No':0,'Yes':1})\n",
    "full_df.Reco_Insurance_Type = full_df.Reco_Insurance_Type.map({'Individual':0,'Joint':1})\n",
    "full_df.Accomodation_Type = full_df.Accomodation_Type.map({'Owned':0,'Rented':1})\n",
    "\n",
    "# Filling missing values with mode\n",
    "for i in ['Health Indicator','Holding_Policy_Duration','Holding_Policy_Type']:\n",
    "    full_df[i].fillna(0,inplace=True)\n",
    "for i in ['Reco_Policy_Cat','Holding_Policy_Type']:\n",
    "    full_df[i] = full_df[i].astype(object)\n",
    "\n",
    "# One hot encoding categorical features with multiple classes\n",
    "dummies = pd.get_dummies(full_df[['City_Code','Health Indicator','Holding_Policy_Duration','Holding_Policy_Type','Reco_Policy_Cat']],drop_first=True)\n",
    "final_data = pd.concat([full_df,dummies],axis=1)\n",
    "final_data.drop(['ID','City_Code','Health Indicator','Lower_Age','Holding_Policy_Duration','Holding_Policy_Type','Reco_Policy_Cat'],axis=1,inplace=True)\n",
    "final_data.head()"
   ]
  },
  {
   "cell_type": "code",
   "execution_count": 10,
   "metadata": {},
   "outputs": [
    {
     "name": "stderr",
     "output_type": "stream",
     "text": [
      "/opt/conda/lib/python3.7/site-packages/pandas/core/frame.py:4174: SettingWithCopyWarning: \n",
      "A value is trying to be set on a copy of a slice from a DataFrame\n",
      "\n",
      "See the caveats in the documentation: https://pandas.pydata.org/pandas-docs/stable/user_guide/indexing.html#returning-a-view-versus-a-copy\n",
      "  errors=errors,\n"
     ]
    },
    {
     "data": {
      "text/plain": [
       "((50882, 92), (21805, 91))"
      ]
     },
     "execution_count": 10,
     "metadata": {},
     "output_type": "execute_result"
    }
   ],
   "source": [
    "# Splitting combined data into preprocessed train and test data\n",
    "train_data=final_data.dropna()\n",
    "test_data = final_data.iloc[50882:]\n",
    "test_data.drop('Response',axis=1,inplace=True)\n",
    "train_data.shape,test_data.shape"
   ]
  },
  {
   "cell_type": "code",
   "execution_count": 1,
   "metadata": {},
   "outputs": [],
   "source": [
    "# Scaling the data - this didn't make much difference in score so I dropped it\n",
    "\n",
    "# X=train_data.drop('Response',axis=1)\n",
    "# y=train_data.Response\n",
    "# X_train, X_test, y_train, y_test = train_test_split(X,y,test_size=0.30)\n",
    "\n",
    "# to_be_scaled_feat = [ 'Age','Reco_Policy_Premium','Upper_Age', 'Region_Code']\n",
    "# scaler=StandardScaler()\n",
    "# scaler.fit(train_data[to_be_scaled_feat])\n",
    "# X_train[to_be_scaled_feat] = scaler.transform(X_train[to_be_scaled_feat])\n",
    "# X_test[to_be_scaled_feat] = scaler.transform(X_test[to_be_scaled_feat])"
   ]
  },
  {
   "cell_type": "markdown",
   "metadata": {},
   "source": [
    "### XGBoost model cross-validated with 10 folds"
   ]
  },
  {
   "cell_type": "code",
   "execution_count": 12,
   "metadata": {},
   "outputs": [],
   "source": [
    "predictor_train_scale = train_data.drop('Response',axis=1)\n",
    "predictor_test_scale = test_data\n",
    "target_train = train_data.Response"
   ]
  },
  {
   "cell_type": "code",
   "execution_count": 18,
   "metadata": {},
   "outputs": [
    {
     "name": "stdout",
     "output_type": "stream",
     "text": [
      "\n",
      "Fold: 1\n",
      "\n"
     ]
    },
    {
     "name": "stderr",
     "output_type": "stream",
     "text": [
      "/opt/conda/lib/python3.7/site-packages/xgboost/sklearn.py:888: UserWarning: The use of label encoder in XGBClassifier is deprecated and will be removed in a future release. To remove this warning, do the following: 1) Pass option use_label_encoder=False when constructing XGBClassifier object; and 2) Encode your labels (y) as integers starting with 0, i.e. 0, 1, 2, ..., [num_class - 1].\n",
      "  warnings.warn(label_encoder_deprecation_msg, UserWarning)\n"
     ]
    },
    {
     "name": "stdout",
     "output_type": "stream",
     "text": [
      "[0]\tvalidation_0-auc:0.58018\tvalidation_1-auc:0.58197\n",
      "[100]\tvalidation_0-auc:0.70395\tvalidation_1-auc:0.66245\n",
      "[200]\tvalidation_0-auc:0.73579\tvalidation_1-auc:0.67098\n",
      "[300]\tvalidation_0-auc:0.75703\tvalidation_1-auc:0.67652\n",
      "[400]\tvalidation_0-auc:0.77539\tvalidation_1-auc:0.67857\n",
      "[493]\tvalidation_0-auc:0.78773\tvalidation_1-auc:0.68116\n",
      "\n",
      "Fold: 2\n",
      "\n",
      "[0]\tvalidation_0-auc:0.58032\tvalidation_1-auc:0.57922\n"
     ]
    },
    {
     "name": "stderr",
     "output_type": "stream",
     "text": [
      "/opt/conda/lib/python3.7/site-packages/xgboost/sklearn.py:888: UserWarning: The use of label encoder in XGBClassifier is deprecated and will be removed in a future release. To remove this warning, do the following: 1) Pass option use_label_encoder=False when constructing XGBClassifier object; and 2) Encode your labels (y) as integers starting with 0, i.e. 0, 1, 2, ..., [num_class - 1].\n",
      "  warnings.warn(label_encoder_deprecation_msg, UserWarning)\n"
     ]
    },
    {
     "name": "stdout",
     "output_type": "stream",
     "text": [
      "[100]\tvalidation_0-auc:0.70390\tvalidation_1-auc:0.66406\n",
      "[200]\tvalidation_0-auc:0.73308\tvalidation_1-auc:0.66936\n",
      "[300]\tvalidation_0-auc:0.75586\tvalidation_1-auc:0.67512\n",
      "[400]\tvalidation_0-auc:0.77380\tvalidation_1-auc:0.67434\n",
      "[422]\tvalidation_0-auc:0.77675\tvalidation_1-auc:0.67566\n",
      "\n",
      "Fold: 3\n",
      "\n",
      "[0]\tvalidation_0-auc:0.58125\tvalidation_1-auc:0.57094\n"
     ]
    },
    {
     "name": "stderr",
     "output_type": "stream",
     "text": [
      "/opt/conda/lib/python3.7/site-packages/xgboost/sklearn.py:888: UserWarning: The use of label encoder in XGBClassifier is deprecated and will be removed in a future release. To remove this warning, do the following: 1) Pass option use_label_encoder=False when constructing XGBClassifier object; and 2) Encode your labels (y) as integers starting with 0, i.e. 0, 1, 2, ..., [num_class - 1].\n",
      "  warnings.warn(label_encoder_deprecation_msg, UserWarning)\n"
     ]
    },
    {
     "name": "stdout",
     "output_type": "stream",
     "text": [
      "[100]\tvalidation_0-auc:0.70126\tvalidation_1-auc:0.66164\n",
      "[200]\tvalidation_0-auc:0.73177\tvalidation_1-auc:0.67166\n",
      "[300]\tvalidation_0-auc:0.75473\tvalidation_1-auc:0.67599\n",
      "[400]\tvalidation_0-auc:0.77206\tvalidation_1-auc:0.67908\n",
      "[493]\tvalidation_0-auc:0.78591\tvalidation_1-auc:0.68157\n",
      "\n",
      "Fold: 4\n",
      "\n",
      "[0]\tvalidation_0-auc:0.58081\tvalidation_1-auc:0.57549\n"
     ]
    },
    {
     "name": "stderr",
     "output_type": "stream",
     "text": [
      "/opt/conda/lib/python3.7/site-packages/xgboost/sklearn.py:888: UserWarning: The use of label encoder in XGBClassifier is deprecated and will be removed in a future release. To remove this warning, do the following: 1) Pass option use_label_encoder=False when constructing XGBClassifier object; and 2) Encode your labels (y) as integers starting with 0, i.e. 0, 1, 2, ..., [num_class - 1].\n",
      "  warnings.warn(label_encoder_deprecation_msg, UserWarning)\n"
     ]
    },
    {
     "name": "stdout",
     "output_type": "stream",
     "text": [
      "[100]\tvalidation_0-auc:0.70183\tvalidation_1-auc:0.66588\n",
      "[200]\tvalidation_0-auc:0.73392\tvalidation_1-auc:0.67915\n",
      "[300]\tvalidation_0-auc:0.75632\tvalidation_1-auc:0.68424\n",
      "[400]\tvalidation_0-auc:0.77236\tvalidation_1-auc:0.68786\n",
      "[493]\tvalidation_0-auc:0.78537\tvalidation_1-auc:0.69055\n",
      "\n",
      "Fold: 5\n",
      "\n",
      "[0]\tvalidation_0-auc:0.57895\tvalidation_1-auc:0.59255\n"
     ]
    },
    {
     "name": "stderr",
     "output_type": "stream",
     "text": [
      "/opt/conda/lib/python3.7/site-packages/xgboost/sklearn.py:888: UserWarning: The use of label encoder in XGBClassifier is deprecated and will be removed in a future release. To remove this warning, do the following: 1) Pass option use_label_encoder=False when constructing XGBClassifier object; and 2) Encode your labels (y) as integers starting with 0, i.e. 0, 1, 2, ..., [num_class - 1].\n",
      "  warnings.warn(label_encoder_deprecation_msg, UserWarning)\n"
     ]
    },
    {
     "name": "stdout",
     "output_type": "stream",
     "text": [
      "[100]\tvalidation_0-auc:0.70421\tvalidation_1-auc:0.68207\n",
      "[200]\tvalidation_0-auc:0.73551\tvalidation_1-auc:0.68783\n",
      "[300]\tvalidation_0-auc:0.75728\tvalidation_1-auc:0.68854\n",
      "[400]\tvalidation_0-auc:0.77431\tvalidation_1-auc:0.69192\n",
      "[493]\tvalidation_0-auc:0.78691\tvalidation_1-auc:0.69314\n",
      "\n",
      "Fold: 6\n",
      "\n",
      "[0]\tvalidation_0-auc:0.58092\tvalidation_1-auc:0.57048\n"
     ]
    },
    {
     "name": "stderr",
     "output_type": "stream",
     "text": [
      "/opt/conda/lib/python3.7/site-packages/xgboost/sklearn.py:888: UserWarning: The use of label encoder in XGBClassifier is deprecated and will be removed in a future release. To remove this warning, do the following: 1) Pass option use_label_encoder=False when constructing XGBClassifier object; and 2) Encode your labels (y) as integers starting with 0, i.e. 0, 1, 2, ..., [num_class - 1].\n",
      "  warnings.warn(label_encoder_deprecation_msg, UserWarning)\n"
     ]
    },
    {
     "name": "stdout",
     "output_type": "stream",
     "text": [
      "[100]\tvalidation_0-auc:0.70197\tvalidation_1-auc:0.66919\n",
      "[200]\tvalidation_0-auc:0.73325\tvalidation_1-auc:0.68226\n",
      "[300]\tvalidation_0-auc:0.75499\tvalidation_1-auc:0.68462\n",
      "[400]\tvalidation_0-auc:0.77275\tvalidation_1-auc:0.68724\n",
      "[493]\tvalidation_0-auc:0.78622\tvalidation_1-auc:0.68866\n",
      "\n",
      "Fold: 7\n",
      "\n",
      "[0]\tvalidation_0-auc:0.58081\tvalidation_1-auc:0.57168\n"
     ]
    },
    {
     "name": "stderr",
     "output_type": "stream",
     "text": [
      "/opt/conda/lib/python3.7/site-packages/xgboost/sklearn.py:888: UserWarning: The use of label encoder in XGBClassifier is deprecated and will be removed in a future release. To remove this warning, do the following: 1) Pass option use_label_encoder=False when constructing XGBClassifier object; and 2) Encode your labels (y) as integers starting with 0, i.e. 0, 1, 2, ..., [num_class - 1].\n",
      "  warnings.warn(label_encoder_deprecation_msg, UserWarning)\n"
     ]
    },
    {
     "name": "stdout",
     "output_type": "stream",
     "text": [
      "[100]\tvalidation_0-auc:0.70197\tvalidation_1-auc:0.65991\n",
      "[200]\tvalidation_0-auc:0.73252\tvalidation_1-auc:0.67113\n",
      "[300]\tvalidation_0-auc:0.75423\tvalidation_1-auc:0.67844\n",
      "[400]\tvalidation_0-auc:0.77297\tvalidation_1-auc:0.68095\n",
      "[493]\tvalidation_0-auc:0.78697\tvalidation_1-auc:0.68545\n",
      "\n",
      "Fold: 8\n",
      "\n",
      "[0]\tvalidation_0-auc:0.57996\tvalidation_1-auc:0.58210\n"
     ]
    },
    {
     "name": "stderr",
     "output_type": "stream",
     "text": [
      "/opt/conda/lib/python3.7/site-packages/xgboost/sklearn.py:888: UserWarning: The use of label encoder in XGBClassifier is deprecated and will be removed in a future release. To remove this warning, do the following: 1) Pass option use_label_encoder=False when constructing XGBClassifier object; and 2) Encode your labels (y) as integers starting with 0, i.e. 0, 1, 2, ..., [num_class - 1].\n",
      "  warnings.warn(label_encoder_deprecation_msg, UserWarning)\n"
     ]
    },
    {
     "name": "stdout",
     "output_type": "stream",
     "text": [
      "[100]\tvalidation_0-auc:0.70205\tvalidation_1-auc:0.67150\n",
      "[200]\tvalidation_0-auc:0.73447\tvalidation_1-auc:0.67849\n",
      "[300]\tvalidation_0-auc:0.75733\tvalidation_1-auc:0.67978\n",
      "[400]\tvalidation_0-auc:0.77440\tvalidation_1-auc:0.68176\n",
      "[493]\tvalidation_0-auc:0.78606\tvalidation_1-auc:0.68353\n",
      "\n",
      "Fold: 9\n",
      "\n",
      "[0]\tvalidation_0-auc:0.57927\tvalidation_1-auc:0.58887\n"
     ]
    },
    {
     "name": "stderr",
     "output_type": "stream",
     "text": [
      "/opt/conda/lib/python3.7/site-packages/xgboost/sklearn.py:888: UserWarning: The use of label encoder in XGBClassifier is deprecated and will be removed in a future release. To remove this warning, do the following: 1) Pass option use_label_encoder=False when constructing XGBClassifier object; and 2) Encode your labels (y) as integers starting with 0, i.e. 0, 1, 2, ..., [num_class - 1].\n",
      "  warnings.warn(label_encoder_deprecation_msg, UserWarning)\n"
     ]
    },
    {
     "name": "stdout",
     "output_type": "stream",
     "text": [
      "[100]\tvalidation_0-auc:0.70179\tvalidation_1-auc:0.67373\n",
      "[200]\tvalidation_0-auc:0.73278\tvalidation_1-auc:0.67665\n",
      "[300]\tvalidation_0-auc:0.75571\tvalidation_1-auc:0.67840\n",
      "[400]\tvalidation_0-auc:0.77370\tvalidation_1-auc:0.67804\n",
      "[425]\tvalidation_0-auc:0.77766\tvalidation_1-auc:0.67833\n",
      "\n",
      "Fold: 10\n",
      "\n",
      "[0]\tvalidation_0-auc:0.57989\tvalidation_1-auc:0.58086\n"
     ]
    },
    {
     "name": "stderr",
     "output_type": "stream",
     "text": [
      "/opt/conda/lib/python3.7/site-packages/xgboost/sklearn.py:888: UserWarning: The use of label encoder in XGBClassifier is deprecated and will be removed in a future release. To remove this warning, do the following: 1) Pass option use_label_encoder=False when constructing XGBClassifier object; and 2) Encode your labels (y) as integers starting with 0, i.e. 0, 1, 2, ..., [num_class - 1].\n",
      "  warnings.warn(label_encoder_deprecation_msg, UserWarning)\n"
     ]
    },
    {
     "name": "stdout",
     "output_type": "stream",
     "text": [
      "[100]\tvalidation_0-auc:0.70421\tvalidation_1-auc:0.66246\n",
      "[200]\tvalidation_0-auc:0.73538\tvalidation_1-auc:0.66572\n",
      "[300]\tvalidation_0-auc:0.75610\tvalidation_1-auc:0.66738\n",
      "[393]\tvalidation_0-auc:0.77202\tvalidation_1-auc:0.66697\n",
      "ROC_AUC - CV Score: 0.682759463677978 \n",
      "\n",
      "Score :  [0.681384649836329, 0.6759605121026763, 0.6815741308213611, 0.6905480235968855, 0.6931456458610258, 0.6886650430298965, 0.6855595706565126, 0.6836819286113965, 0.6791139004866633, 0.6679612317770327]\n"
     ]
    },
    {
     "data": {
      "text/plain": [
       "'sample_submmission'"
      ]
     },
     "metadata": {},
     "output_type": "display_data"
    },
    {
     "data": {
      "text/html": [
       "<div>\n",
       "<style scoped>\n",
       "    .dataframe tbody tr th:only-of-type {\n",
       "        vertical-align: middle;\n",
       "    }\n",
       "\n",
       "    .dataframe tbody tr th {\n",
       "        vertical-align: top;\n",
       "    }\n",
       "\n",
       "    .dataframe thead th {\n",
       "        text-align: right;\n",
       "    }\n",
       "</style>\n",
       "<table border=\"1\" class=\"dataframe\">\n",
       "  <thead>\n",
       "    <tr style=\"text-align: right;\">\n",
       "      <th></th>\n",
       "      <th>ID</th>\n",
       "      <th>Response</th>\n",
       "    </tr>\n",
       "  </thead>\n",
       "  <tbody>\n",
       "    <tr>\n",
       "      <th>0</th>\n",
       "      <td>50883</td>\n",
       "      <td>0.346687</td>\n",
       "    </tr>\n",
       "    <tr>\n",
       "      <th>1</th>\n",
       "      <td>50884</td>\n",
       "      <td>0.301421</td>\n",
       "    </tr>\n",
       "    <tr>\n",
       "      <th>2</th>\n",
       "      <td>50885</td>\n",
       "      <td>0.303253</td>\n",
       "    </tr>\n",
       "    <tr>\n",
       "      <th>3</th>\n",
       "      <td>50886</td>\n",
       "      <td>0.204151</td>\n",
       "    </tr>\n",
       "    <tr>\n",
       "      <th>4</th>\n",
       "      <td>50887</td>\n",
       "      <td>0.240147</td>\n",
       "    </tr>\n",
       "    <tr>\n",
       "      <th>...</th>\n",
       "      <td>...</td>\n",
       "      <td>...</td>\n",
       "    </tr>\n",
       "    <tr>\n",
       "      <th>21800</th>\n",
       "      <td>72683</td>\n",
       "      <td>0.130468</td>\n",
       "    </tr>\n",
       "    <tr>\n",
       "      <th>21801</th>\n",
       "      <td>72684</td>\n",
       "      <td>0.215245</td>\n",
       "    </tr>\n",
       "    <tr>\n",
       "      <th>21802</th>\n",
       "      <td>72685</td>\n",
       "      <td>0.137936</td>\n",
       "    </tr>\n",
       "    <tr>\n",
       "      <th>21803</th>\n",
       "      <td>72686</td>\n",
       "      <td>0.327804</td>\n",
       "    </tr>\n",
       "    <tr>\n",
       "      <th>21804</th>\n",
       "      <td>72687</td>\n",
       "      <td>0.064123</td>\n",
       "    </tr>\n",
       "  </tbody>\n",
       "</table>\n",
       "<p>21805 rows × 2 columns</p>\n",
       "</div>"
      ],
      "text/plain": [
       "          ID  Response\n",
       "0      50883  0.346687\n",
       "1      50884  0.301421\n",
       "2      50885  0.303253\n",
       "3      50886  0.204151\n",
       "4      50887  0.240147\n",
       "...      ...       ...\n",
       "21800  72683  0.130468\n",
       "21801  72684  0.215245\n",
       "21802  72685  0.137936\n",
       "21803  72686  0.327804\n",
       "21804  72687  0.064123\n",
       "\n",
       "[21805 rows x 2 columns]"
      ]
     },
     "metadata": {},
     "output_type": "display_data"
    },
    {
     "data": {
      "text/html": [
       "<div>\n",
       "<style scoped>\n",
       "    .dataframe tbody tr th:only-of-type {\n",
       "        vertical-align: middle;\n",
       "    }\n",
       "\n",
       "    .dataframe tbody tr th {\n",
       "        vertical-align: top;\n",
       "    }\n",
       "\n",
       "    .dataframe thead th {\n",
       "        text-align: right;\n",
       "    }\n",
       "</style>\n",
       "<table border=\"1\" class=\"dataframe\">\n",
       "  <thead>\n",
       "    <tr style=\"text-align: right;\">\n",
       "      <th></th>\n",
       "      <th>ID</th>\n",
       "      <th>Response</th>\n",
       "    </tr>\n",
       "  </thead>\n",
       "  <tbody>\n",
       "    <tr>\n",
       "      <th>0</th>\n",
       "      <td>50883</td>\n",
       "      <td>0.346687</td>\n",
       "    </tr>\n",
       "    <tr>\n",
       "      <th>1</th>\n",
       "      <td>50884</td>\n",
       "      <td>0.301421</td>\n",
       "    </tr>\n",
       "    <tr>\n",
       "      <th>2</th>\n",
       "      <td>50885</td>\n",
       "      <td>0.303253</td>\n",
       "    </tr>\n",
       "    <tr>\n",
       "      <th>3</th>\n",
       "      <td>50886</td>\n",
       "      <td>0.204151</td>\n",
       "    </tr>\n",
       "    <tr>\n",
       "      <th>4</th>\n",
       "      <td>50887</td>\n",
       "      <td>0.240147</td>\n",
       "    </tr>\n",
       "  </tbody>\n",
       "</table>\n",
       "</div>"
      ],
      "text/plain": [
       "      ID  Response\n",
       "0  50883  0.346687\n",
       "1  50884  0.301421\n",
       "2  50885  0.303253\n",
       "3  50886  0.204151\n",
       "4  50887  0.240147"
      ]
     },
     "execution_count": 18,
     "metadata": {},
     "output_type": "execute_result"
    }
   ],
   "source": [
    "# making 10 folds\n",
    "kf=KFold(n_splits=10,shuffle=True)\n",
    "\n",
    "preds_3   = list()\n",
    "y_pred_3  = []\n",
    "rocauc_score = []\n",
    "\n",
    "# Applying model on each fold and calculating mean of score\n",
    "for i,(train_idx,val_idx) in enumerate(kf.split(predictor_train_scale)):    \n",
    "    \n",
    "    X_train, y_train = predictor_train_scale.iloc[train_idx,:], target_train.iloc[train_idx]    \n",
    "    X_val, y_val = predictor_train_scale.iloc[val_idx, :], target_train.iloc[val_idx]\n",
    "   \n",
    "    print('\\nFold: {}\\n'.format(i+1))\n",
    "\n",
    "    xg=XGBClassifier( eval_metric='auc',\n",
    "        \n",
    "                     # GPU PARAMETERS #\n",
    "                     tree_method='gpu_hist', \n",
    "                     gpu_id=0,\n",
    "                     # GPU PARAMETERS #\n",
    "        \n",
    "                     random_state=294,\n",
    "                     learning_rate=0.15, \n",
    "                     max_depth=4,\n",
    "                     n_estimators=494, \n",
    "                     objective='binary:logistic'\n",
    "                    )\n",
    "\n",
    "    xg.fit(X_train, y_train\n",
    "           ,eval_set=[(X_train, y_train),(X_val, y_val)]\n",
    "           ,early_stopping_rounds=100\n",
    "           ,verbose=100\n",
    "           )\n",
    "\n",
    "    roc_auc = roc_auc_score(y_val,xg.predict_proba(X_val)[:, 1])\n",
    "    rocauc_score.append(roc_auc)\n",
    "    preds_3.append(xg.predict_proba(predictor_test_scale[predictor_test_scale.columns])[:, 1])\n",
    "    \n",
    "y_pred_final_3         = np.mean(preds_3,axis=0)    \n",
    "sub['Response']=y_pred_final_3\n",
    "\n",
    "print('ROC_AUC - CV Score: {}'.format((sum(rocauc_score)/10)),'\\n')\n",
    "print(\"Score : \",rocauc_score)\n",
    "\n",
    "# Download and Show Submission File :\n",
    "\n",
    "display(\"sample_submmission\",sub)\n",
    "sub_file_name_3 = \"S3. XGB_GPU_1994SEED_LGBM_NoScaler_MyStyle.csv\"\n",
    "sub.to_csv(sub_file_name_3,index=False)\n",
    "Blend_model_3 = sub.copy()\n",
    "sub.head(5)"
   ]
  },
  {
   "cell_type": "markdown",
   "metadata": {},
   "source": [
    "### Final score is 0.68"
   ]
  }
 ],
 "metadata": {
  "kernelspec": {
   "display_name": "Python 3",
   "language": "python",
   "name": "python3"
  },
  "language_info": {
   "codemirror_mode": {
    "name": "ipython",
    "version": 3
   },
   "file_extension": ".py",
   "mimetype": "text/x-python",
   "name": "python",
   "nbconvert_exporter": "python",
   "pygments_lexer": "ipython3",
   "version": "3.7.6"
  }
 },
 "nbformat": 4,
 "nbformat_minor": 4
}
